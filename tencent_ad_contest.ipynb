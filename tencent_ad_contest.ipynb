{
 "cells": [
  {
   "cell_type": "code",
   "execution_count": 34,
   "metadata": {},
   "outputs": [],
   "source": [
    "import sys\n",
    "import pandas as pd\n",
    "from sklearn.feature_extraction.text import CountVectorizer\n",
    "from sklearn.preprocessing import OneHotEncoder,LabelEncoder\n",
    "from scipy import sparse\n",
    "import os\n",
    "import gc\n",
    "import math\n",
    "import numpy as np\n",
    "\n",
    "from collections import Counter\n",
    "\n",
    "from util import ShowProcess\n",
    "import matplotlib.pyplot as plt\n",
    "\n",
    "import scipy.sparse as sp"
   ]
  },
  {
   "cell_type": "markdown",
   "metadata": {},
   "source": [
    "## read user, ad, train, test\n",
    "\n",
    "then merge"
   ]
  },
  {
   "cell_type": "code",
   "execution_count": null,
   "metadata": {},
   "outputs": [],
   "source": [
    "%%time\n",
    "if os.path.exists('./preliminary_contest_data/userFeature.csv'):\n",
    "    print('load')\n",
    "    user_feature=pd.read_csv('./preliminary_contest_data/userFeature.csv')\n",
    "else:\n",
    "    print('process')\n",
    "    userFeature_data = []\n",
    "    with open('./preliminary_contest_data/userFeature.data', 'r') as f:\n",
    "        for i, line in enumerate(f):\n",
    "            line = line.strip().split('|')\n",
    "            userFeature_dict = {}\n",
    "            for each in line:\n",
    "                each_list = each.split(' ')\n",
    "                userFeature_dict[each_list[0]] = ' '.join(each_list[1:])\n",
    "            userFeature_data.append(userFeature_dict)\n",
    "            sp.show_process()\n",
    "        sp.close()\n",
    "        user_feature = pd.DataFrame(userFeature_data)\n",
    "        user_feature.to_csv('./preliminary_contest_data/userFeature.csv', index=False)"
   ]
  },
  {
   "cell_type": "code",
   "execution_count": null,
   "metadata": {},
   "outputs": [],
   "source": [
    "ad_feature = pd.read_csv('./preliminary_contest_data/adFeature.csv')\n",
    "train=pd.read_csv('./preliminary_contest_data/train.csv')\n",
    "predict=pd.read_csv('./preliminary_contest_data/test1.csv')"
   ]
  },
  {
   "cell_type": "code",
   "execution_count": null,
   "metadata": {},
   "outputs": [],
   "source": [
    "train.loc[train['label']==-1,'label']=0\n",
    "predict['label']=-1\n",
    "\n",
    "data=pd.concat([train,predict])\n",
    "data=pd.merge(data,ad_feature,on='aid',how='left')\n",
    "data=pd.merge(data,user_feature,on='uid',how='left')"
   ]
  },
  {
   "cell_type": "markdown",
   "metadata": {},
   "source": [
    "## if extis read, if not save"
   ]
  },
  {
   "cell_type": "code",
   "execution_count": 4,
   "metadata": {},
   "outputs": [
    {
     "name": "stdout",
     "output_type": "stream",
     "text": [
      "load\n"
     ]
    }
   ],
   "source": [
    "%%time\n",
    "if os.path.exists('./merge_data.csv'):\n",
    "    print('load')\n",
    "    data = pd.read_csv('./merge_data.csv')\n",
    "    data = data.fillna('-1')\n",
    "else:\n",
    "    print('save')\n",
    "    data.to_csv('./merge_data.csv')"
   ]
  },
  {
   "cell_type": "code",
   "execution_count": 30,
   "metadata": {},
   "outputs": [],
   "source": [
    "one_hot_feature=['LBS','age','carrier','consumptionAbility','education','gender','house','os','ct',\n",
    "                 'marriageStatus','advertiserId','campaignId', 'creativeId',\n",
    "                 'adCategoryId', 'productId', 'productType']\n",
    "vector_feature=['appIdAction','appIdInstall','interest1','interest2','interest3','interest4','interest5',\n",
    "                'kw1','kw2','kw3','topic1','topic2','topic3']"
   ]
  },
  {
   "cell_type": "markdown",
   "metadata": {},
   "source": [
    "### process one hot feature"
   ]
  },
  {
   "cell_type": "code",
   "execution_count": 31,
   "metadata": {},
   "outputs": [
    {
     "name": "stdout",
     "output_type": "stream",
     "text": [
      "[>>>>>>>>>>>>>>>>>>>>>>>>>>>>>>>>>>>>>>>>>>>>>>>>>>]100.00%\n",
      "done\n",
      "CPU times: user 3min 14s, sys: 24.6 s, total: 3min 38s\n",
      "Wall time: 4min 9s\n"
     ]
    }
   ],
   "source": [
    "%%time\n",
    "sp = ShowProcess(len(one_hot_feature))\n",
    "for feature in one_hot_feature:\n",
    "    try:\n",
    "        data[feature] = LabelEncoder().fit_transform(data[feature].apply(int))\n",
    "    except:\n",
    "        data[feature] = LabelEncoder().fit_transform(data[feature])\n",
    "    sp.show_process()\n",
    "sp.close()"
   ]
  },
  {
   "cell_type": "code",
   "execution_count": 49,
   "metadata": {},
   "outputs": [
    {
     "name": "stdout",
     "output_type": "stream",
     "text": [
      "CPU times: user 13.7 s, sys: 10.9 s, total: 24.6 s\n",
      "Wall time: 30.4 s\n"
     ]
    }
   ],
   "source": [
    "%%time\n",
    "enc = OneHotEncoder()\n",
    "categorical_features = data[one_hot_feature].values\n",
    "one_hot_features = enc.fit_transform(categorical_features)"
   ]
  },
  {
   "cell_type": "code",
   "execution_count": 162,
   "metadata": {
    "scrolled": false
   },
   "outputs": [
    {
     "data": {
      "text/plain": [
       "(scipy.sparse.csr.csr_matrix, (11064803, 1445))"
      ]
     },
     "execution_count": 162,
     "metadata": {},
     "output_type": "execute_result"
    }
   ],
   "source": [
    "type(one_hot_features), one_hot_features.shape"
   ]
  },
  {
   "cell_type": "markdown",
   "metadata": {},
   "source": [
    "### process vector feature"
   ]
  },
  {
   "cell_type": "code",
   "execution_count": 121,
   "metadata": {
    "scrolled": true
   },
   "outputs": [
    {
     "name": "stdout",
     "output_type": "stream",
     "text": [
      "[>>>>>>>>>>>>>>>>>>>>>>>>>>>>>>>>>>>>>>>>>>>>>>>>>>]100.00%\n",
      "done\n",
      "CPU times: user 14min 43s, sys: 40.6 s, total: 15min 24s\n",
      "Wall time: 15min 16s\n"
     ]
    }
   ],
   "source": [
    "%%time\n",
    "vectorize_features = []\n",
    "sp = ShowProcess(len(vector_feature))\n",
    "for feature in vector_feature:\n",
    "    feature_df = CountVectorizer().fit_transform(data[feature])\n",
    "    vectorize_features.append(feature_df)\n",
    "    sp.show_process()\n",
    "sp.close()"
   ]
  },
  {
   "cell_type": "code",
   "execution_count": 137,
   "metadata": {},
   "outputs": [
    {
     "name": "stdout",
     "output_type": "stream",
     "text": [
      "CPU times: user 46.9 s, sys: 48 s, total: 1min 34s\n",
      "Wall time: 1min 34s\n"
     ]
    }
   ],
   "source": [
    "%%time\n",
    "vectorize_features_merge = sp.hstack((vectorize_features[0],vectorize_features[1]))\n",
    "for i in range(2, len(vectorize_features), 1):\n",
    "    vectorize_features_merge = sp.hstack((vectorize_features_merge, vectorize_features[i]))"
   ]
  },
  {
   "cell_type": "code",
   "execution_count": 150,
   "metadata": {},
   "outputs": [
    {
     "name": "stdout",
     "output_type": "stream",
     "text": [
      "CPU times: user 27.5 s, sys: 5.02 s, total: 32.5 s\n",
      "Wall time: 32.5 s\n"
     ]
    }
   ],
   "source": [
    "%%time\n",
    "vectorize_features_merge = vectorize_features_merge.tocsr()"
   ]
  },
  {
   "cell_type": "code",
   "execution_count": 161,
   "metadata": {},
   "outputs": [
    {
     "data": {
      "text/plain": [
       "(scipy.sparse.csr.csr_matrix, (11064803, 418206))"
      ]
     },
     "execution_count": 161,
     "metadata": {},
     "output_type": "execute_result"
    }
   ],
   "source": [
    "type(vectorize_features_merge), vectorize_features_merge.shape"
   ]
  },
  {
   "cell_type": "markdown",
   "metadata": {},
   "source": [
    "### find train, test split index"
   ]
  },
  {
   "cell_type": "code",
   "execution_count": 159,
   "metadata": {},
   "outputs": [],
   "source": [
    "label = data['label']"
   ]
  },
  {
   "cell_type": "code",
   "execution_count": 204,
   "metadata": {
    "scrolled": true
   },
   "outputs": [
    {
     "name": "stdout",
     "output_type": "stream",
     "text": [
      "CPU times: user 2.16 s, sys: 367 ms, total: 2.53 s\n",
      "Wall time: 2.52 s\n"
     ]
    }
   ],
   "source": [
    "%%time\n",
    "train_y = label[np.where(label != -1)[0]].values\n",
    "split_index = len(train_y)"
   ]
  },
  {
   "cell_type": "code",
   "execution_count": 205,
   "metadata": {},
   "outputs": [
    {
     "data": {
      "text/plain": [
       "(numpy.ndarray, (8798814,))"
      ]
     },
     "execution_count": 205,
     "metadata": {},
     "output_type": "execute_result"
    }
   ],
   "source": [
    "type(train_y), train_y.shape"
   ]
  },
  {
   "cell_type": "code",
   "execution_count": 179,
   "metadata": {},
   "outputs": [
    {
     "name": "stdout",
     "output_type": "stream",
     "text": [
      "CPU times: user 5.02 s, sys: 8.9 s, total: 13.9 s\n",
      "Wall time: 13.9 s\n"
     ]
    }
   ],
   "source": [
    "%%time\n",
    "train_one_hot_matrix = one_hot_features[:split_index]\n",
    "train_vectorize_matrix = vectorize_features_merge[:split_index]\n",
    "\n",
    "test_one_hot_matrix = one_hot_features[split_index:]\n",
    "test_vectorize_matrix = vectorize_features_merge[split_index:]"
   ]
  },
  {
   "cell_type": "code",
   "execution_count": 197,
   "metadata": {},
   "outputs": [
    {
     "name": "stdout",
     "output_type": "stream",
     "text": [
      "CPU times: user 31.2 s, sys: 21.5 s, total: 52.7 s\n",
      "Wall time: 52.7 s\n"
     ]
    }
   ],
   "source": [
    "%%time\n",
    "train_x = data[['creativeSize']][:split_index]\n",
    "train_x = sp.csr_matrix(train_x)\n",
    "\n",
    "train_x = sp.hstack((train_x, train_one_hot_matrix))\n",
    "train_x = sp.hstack((train_x, train_vectorize_matrix))\n",
    "train_x = train_x.tocsr()"
   ]
  },
  {
   "cell_type": "code",
   "execution_count": 198,
   "metadata": {},
   "outputs": [
    {
     "data": {
      "text/plain": [
       "(scipy.sparse.csr.csr_matrix, (8798814, 419652))"
      ]
     },
     "execution_count": 198,
     "metadata": {},
     "output_type": "execute_result"
    }
   ],
   "source": [
    "type(train_x), train_x.shape"
   ]
  },
  {
   "cell_type": "code",
   "execution_count": 199,
   "metadata": {},
   "outputs": [
    {
     "name": "stdout",
     "output_type": "stream",
     "text": [
      "CPU times: user 7.63 s, sys: 4.48 s, total: 12.1 s\n",
      "Wall time: 12.1 s\n"
     ]
    }
   ],
   "source": [
    "%%time\n",
    "test_x = data[['creativeSize']][split_index:]\n",
    "test_x = sp.csr_matrix(test_x)\n",
    "\n",
    "test_x = sp.hstack((test_x, test_one_hot_matrix))\n",
    "test_x = sp.hstack((test_x, test_vectorize_matrix))\n",
    "test_x = test_x.tocsr()"
   ]
  },
  {
   "cell_type": "code",
   "execution_count": 200,
   "metadata": {},
   "outputs": [
    {
     "data": {
      "text/plain": [
       "(scipy.sparse.csr.csr_matrix, (2265989, 419652))"
      ]
     },
     "execution_count": 200,
     "metadata": {},
     "output_type": "execute_result"
    }
   ],
   "source": [
    "type(test_x), test_x.shape"
   ]
  },
  {
   "cell_type": "markdown",
   "metadata": {},
   "source": [
    "## save train_x, train_y, test_x"
   ]
  },
  {
   "cell_type": "code",
   "execution_count": 206,
   "metadata": {},
   "outputs": [
    {
     "name": "stdout",
     "output_type": "stream",
     "text": [
      "CPU times: user 3min 25s, sys: 17.3 s, total: 3min 42s\n",
      "Wall time: 3min 43s\n"
     ]
    }
   ],
   "source": [
    "%%time\n",
    "sp.save_npz('./preliminary_contest_data/train_x.npz', train_x)\n",
    "sp.save_npz('./preliminary_contest_data/test_x.npz', test_x)\n",
    "\n",
    "np.save('./preliminary_contest_data/train_y.npy', train_y)"
   ]
  },
  {
   "cell_type": "code",
   "execution_count": null,
   "metadata": {},
   "outputs": [],
   "source": []
  },
  {
   "cell_type": "code",
   "execution_count": null,
   "metadata": {},
   "outputs": [],
   "source": []
  },
  {
   "cell_type": "code",
   "execution_count": null,
   "metadata": {},
   "outputs": [],
   "source": []
  },
  {
   "cell_type": "code",
   "execution_count": null,
   "metadata": {},
   "outputs": [],
   "source": []
  },
  {
   "cell_type": "code",
   "execution_count": null,
   "metadata": {},
   "outputs": [],
   "source": []
  }
 ],
 "metadata": {
  "kernelspec": {
   "display_name": "Python 2",
   "language": "python",
   "name": "python2"
  },
  "language_info": {
   "codemirror_mode": {
    "name": "ipython",
    "version": 2
   },
   "file_extension": ".py",
   "mimetype": "text/x-python",
   "name": "python",
   "nbconvert_exporter": "python",
   "pygments_lexer": "ipython2",
   "version": "2.7.14"
  }
 },
 "nbformat": 4,
 "nbformat_minor": 2
}
